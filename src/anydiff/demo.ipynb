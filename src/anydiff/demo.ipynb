{
 "cells": [
  {
   "cell_type": "code",
   "execution_count": 1,
   "metadata": {},
   "outputs": [],
   "source": [
    "%load_ext autoreload\n",
    "%autoreload 2\n",
    "\n"
   ]
  },
  {
   "cell_type": "code",
   "execution_count": 2,
   "metadata": {},
   "outputs": [
    {
     "name": "stdout",
     "output_type": "stream",
     "text": [
      "env: ANYWIDGET_HMR=1\n"
     ]
    }
   ],
   "source": [
    "%env ANYWIDGET_HMR=1"
   ]
  },
  {
   "cell_type": "code",
   "execution_count": 3,
   "metadata": {},
   "outputs": [],
   "source": [
    "from anydiff import DiffWidget"
   ]
  },
  {
   "cell_type": "code",
   "execution_count": 4,
   "metadata": {},
   "outputs": [],
   "source": [
    "code1 = \"\"\"def greet(name):\n",
    "print(\"Hello, \" + name + \"!\")\n",
    "\n",
    "asdsfdsf\n",
    "dsfsdf\n",
    "\n",
    "return 90\n",
    "\"\"\"\n",
    "\n",
    "\n",
    "code2 = \"\"\"def greet(name):\n",
    "print(f\"Hello, ${name}!\")\n",
    "\n",
    "asdsfdsf\n",
    "dsfsdf\n",
    "\n",
    "\n",
    "return 42\"\"\"\n"
   ]
  },
  {
   "cell_type": "code",
   "execution_count": 5,
   "metadata": {},
   "outputs": [
    {
     "data": {
      "application/vnd.jupyter.widget-view+json": {
       "model_id": "a89ec4a1806e4417902f6f065101ad68",
       "version_major": 2,
       "version_minor": 1
      },
      "text/plain": [
       "DiffWidget(modified='def greet(name):\\nprint(f\"Hello, ${name}!\")\\n\\nasdsfdsf\\ndsfsdf\\n\\n\\nreturn 42', orig='de…"
      ]
     },
     "execution_count": 5,
     "metadata": {},
     "output_type": "execute_result"
    }
   ],
   "source": [
    "w = DiffWidget(orig=code1, modified=code2, unified=False)  \n",
    "w"
   ]
  },
  {
   "cell_type": "code",
   "execution_count": 6,
   "metadata": {},
   "outputs": [],
   "source": [
    "w.orig = \"DSgfgdfgdfsgsdfg\""
   ]
  },
  {
   "cell_type": "code",
   "execution_count": 7,
   "metadata": {},
   "outputs": [],
   "source": [
    "w.unified = True"
   ]
  }
 ],
 "metadata": {
  "kernelspec": {
   "display_name": ".venv",
   "language": "python",
   "name": "python3"
  },
  "language_info": {
   "codemirror_mode": {
    "name": "ipython",
    "version": 3
   },
   "file_extension": ".py",
   "mimetype": "text/x-python",
   "name": "python",
   "nbconvert_exporter": "python",
   "pygments_lexer": "ipython3",
   "version": "3.10.15"
  }
 },
 "nbformat": 4,
 "nbformat_minor": 4
}
